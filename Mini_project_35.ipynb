{
  "nbformat": 4,
  "nbformat_minor": 0,
  "metadata": {
    "colab": {
      "provenance": [],
      "authorship_tag": "ABX9TyOwOci87C6YYtNYoKk7wjvK",
      "include_colab_link": true
    },
    "kernelspec": {
      "name": "python3",
      "display_name": "Python 3"
    },
    "language_info": {
      "name": "python"
    }
  },
  "cells": [
    {
      "cell_type": "markdown",
      "metadata": {
        "id": "view-in-github",
        "colab_type": "text"
      },
      "source": [
        "<a href=\"https://colab.research.google.com/github/abi672003/Scraping-raw-data-and-getting-useful-information-from-Flipkart-website/blob/main/Mini_project_35.ipynb\" target=\"_parent\"><img src=\"https://colab.research.google.com/assets/colab-badge.svg\" alt=\"Open In Colab\"/></a>"
      ]
    },
    {
      "cell_type": "code",
      "execution_count": null,
      "metadata": {
        "id": "_VehV8oOWEMZ"
      },
      "outputs": [],
      "source": [
        "url = 'https://www.flipkart.com/search?q=mobile+phone+5g'"
      ]
    },
    {
      "cell_type": "code",
      "source": [
        "!pip install requests beautifulsoup4"
      ],
      "metadata": {
        "colab": {
          "base_uri": "https://localhost:8080/"
        },
        "id": "fcDUVVuBYrqP",
        "outputId": "d58d6ce4-3c88-4743-ab33-4363848c26f4"
      },
      "execution_count": null,
      "outputs": [
        {
          "output_type": "stream",
          "name": "stdout",
          "text": [
            "Requirement already satisfied: requests in /usr/local/lib/python3.10/dist-packages (2.27.1)\n",
            "Requirement already satisfied: beautifulsoup4 in /usr/local/lib/python3.10/dist-packages (4.11.2)\n",
            "Requirement already satisfied: urllib3<1.27,>=1.21.1 in /usr/local/lib/python3.10/dist-packages (from requests) (1.26.16)\n",
            "Requirement already satisfied: certifi>=2017.4.17 in /usr/local/lib/python3.10/dist-packages (from requests) (2023.5.7)\n",
            "Requirement already satisfied: charset-normalizer~=2.0.0 in /usr/local/lib/python3.10/dist-packages (from requests) (2.0.12)\n",
            "Requirement already satisfied: idna<4,>=2.5 in /usr/local/lib/python3.10/dist-packages (from requests) (3.4)\n",
            "Requirement already satisfied: soupsieve>1.2 in /usr/local/lib/python3.10/dist-packages (from beautifulsoup4) (2.4.1)\n"
          ]
        }
      ]
    },
    {
      "cell_type": "code",
      "source": [
        "import requests\n",
        "from bs4 import BeautifulSoup"
      ],
      "metadata": {
        "id": "IOn-yqFlZDxH"
      },
      "execution_count": null,
      "outputs": []
    },
    {
      "cell_type": "code",
      "source": [
        "# Make a request to the website\n",
        "response = requests.get(url)\n",
        "\n",
        "# Create a BeautifulSoup object\n",
        "soup = BeautifulSoup(response.text, 'html.parser')\n"
      ],
      "metadata": {
        "id": "6tL5JGYfYVTv"
      },
      "execution_count": null,
      "outputs": []
    },
    {
      "cell_type": "code",
      "source": [
        "text = soup.get_text()\n",
        "text"
      ],
      "metadata": {
        "colab": {
          "base_uri": "https://localhost:8080/",
          "height": 192
        },
        "id": "QIZxzoboYXbW",
        "outputId": "5219dc10-d54a-4c1b-ca2f-b4cc06a881b7"
      },
      "execution_count": null,
      "outputs": [
        {
          "output_type": "execute_result",
          "data": {
            "text/plain": [
              "' Mobile Phone 5g- Buy Products Online at Best Price in India - All Categories | Flipkart.com     Explore PlusLoginBecome a Seller More CartFiltersCATEGORIESMobiles & AccessoriesMobilesPrice......Min₹10000₹15000₹20000₹30000to₹10000₹15000₹20000₹30000₹30000+BrandSAMSUNGAPPLErealmePOCOInfinixOPPO145 MORE?Customer Ratings4★ & above3★ & aboveGST Invoice AvailableRAM4 GB3 GB2 GB1GB and Below8 GB and Above6 GBInternal StorageBattery CapacityScreen SizePrimary CameraSecondary CameraProcessor BrandSpecialityResolution TypeOperating SystemNetwork TypeSim TypeOffersBuy More, Save MoreNo Cost EMISpecial PriceFeaturesTypeNumber of CoresAvailabilityDiscount50% or more40% or more30% or more20% or more10% or moreOperating System Version NameClock SpeedNeed help?Help me decideHomeMobiles & AccessoriesMobilesShowing 1 – 24 of 5,024 results for \"mobile phone 5g\"Sort ByRelevancePopularityPrice -- Low to HighPrice -- High to LowNewest FirstAdd to CompareSAMSUNG Galaxy F23 5G (Forest Green, 128 GB)4.32,01,686 Ratings\\xa0&\\xa015,471 Reviews6 GB RAM | 128 GB ROM | Expandable Upto 1 TB16.76 cm (6.6 inch) Full HD+ Display50MP + 8MP + 2MP | 8MP Front Camera5000 mAh Lithium Ion BatteryQualcomm Snapdragon 750G Processor1 Year Warranty Provided by the Manufacturer from Date of Purchase₹15,499₹23,99935% offFree delivery by TodayUpto ₹14,950 Off on ExchangeNo Cost EMI from ₹2,584/monthAdd to CompareSAMSUNG Galaxy F23 5G (Aqua Blue, 128 GB)4.32,01,686 Ratings\\xa0&\\xa015,471 Reviews6 GB RAM | 128 GB ROM | Expandable Upto 1 TB16.76 cm (6.6 inch) Full HD+ Display50MP + 8MP + 2MP | 8MP Front Camera5000 mAh Lithium Ion BatteryQualcomm Snapdragon 750G Processor1 Year Warranty Provided by the Manufacturer from Date of Purchase₹15,499₹23,99935% offFree delivery by TodayUpto ₹14,950 Off on ExchangeNo Cost EMI from ₹2,584/monthAdd to ComparePOCO M4 5G (Power Black, 64 GB)4.287,539 Ratings\\xa0&\\xa06,082 Reviews4 GB RAM | 64 GB ROM | Expandable Upto 512 GB16.71 cm (6.58 inch) Full HD+ Display50MP + 2MP | 8MP Front Camera5000 mAh Lithium Ion Polymer BatteryMediatek Dimensity 700 Processor1 Year Warranty for Handset and 6 Months for Accessories₹10,999₹15,99931% offFree delivery by TodayUpto ₹10,450 Off on ExchangeBank OfferAdd to ComparePOCO M4 5G (Power Black, 128 GB)4.244,319 Ratings\\xa0&\\xa03,187 Reviews6 GB RAM | 128 GB ROM | Expandable Upto 512 GB16.71 cm (6.58 inch) Full HD+ Display50MP + 2MP | 8MP Front Camera5000 mAh Lithium Ion Polymer BatteryMediatek Dimensity 700 Processor1 Year Warranty for Handset and 6 Months for Accessories₹12,999₹18,99931% offFree delivery by TodayUpto ₹12,400 Off on ExchangeBank OfferAdd to ComparePOCO M4 5G (Cool Blue, 128 GB)4.244,319 Ratings\\xa0&\\xa03,187 Reviews6 GB RAM | 128 GB ROM | Expandable Upto 512 GB16.71 cm (6.58 inch) Full HD+ Display50MP + 2MP | 8MP Front Camera5000 mAh Lithium Ion Polymer BatteryMediatek Dimensity 700 Processor1 Year Warranty for Handset and 6 Months for Accessories₹12,999₹18,99931% offFree delivery by TodayUpto ₹12,400 Off on ExchangeBank OfferAdd to Comparevivo T2 5G (Velocity Wave, 128 GB)4.46,892 Ratings\\xa0&\\xa0463 Reviews8 GB RAM | 128 GB ROM16.21 cm (6.38 inch) Full HD+ Display64 MP (OIS) + 2MP | 16MP Front Camera4500 mAh BatterySnapdragon 695 Processor1 Year of Device & 6 Months for Inbox Accessories₹20,999₹25,99919% offFree delivery by TodayUpto ₹18,850 Off on ExchangeNo Cost EMI from ₹7,000/monthAdd to ComparePOCO M4 5G (Yellow, 64 GB)4.287,539 Ratings\\xa0&\\xa06,082 Reviews4 GB RAM | 64 GB ROM | Expandable Upto 512 GB16.71 cm (6.58 inch) Full HD+ Display50MP + 2MP | 8MP Front Camera5000 mAh Lithium Ion Polymer BatteryMediatek Dimensity 700 Processor1 Year Warranty for Handset and 6 Months for Accessories₹10,999₹15,99931% offFree delivery by TodayUpto ₹10,450 Off on ExchangeBank OfferAdd to CompareSAMSUNG Galaxy F23 5G (Copper Blush, 128 GB)4.32,01,686 Ratings\\xa0&\\xa015,471 Reviews6 GB RAM | 128 GB ROM | Expandable Upto 1 TB16.76 cm (6.6 inch) Full HD+ Display50MP + 8MP + 2MP | 8MP Front Camera5000 mAh Lithium Ion BatteryQualcomm Snapdragon 750G Processor1 Year Warranty Provided by the Manufacturer from Date of Purchase₹15,499₹23,99935% offFree delivery by TodayUpto ₹14,950 Off on ExchangeNo Cost EMI from ₹2,584/monthAdd to CompareSAMSUNG Galaxy F14 5G (GOAT Green, 128 GB)4.224,463 Ratings\\xa0&\\xa01,909 Reviews6 GB RAM | 128 GB ROM | Expandable Upto 1 TB16.76 cm (6.6 inch) Full HD+ Display50MP + 2MP | 13MP Front Camera6000 mAh BatteryExynos 1330, Octa Core Processor1 Year Manufacturer Warranty for Device and 6 Months Manufacturer Warranty for In-Box Accessories₹13,990₹18,49024% offFree delivery by TodayUpto ₹13,300 Off on ExchangeNo Cost EMI from ₹2,332/monthAdd to ComparePOCO M4 5G (Cool Blue, 64 GB)4.287,539 Ratings\\xa0&\\xa06,082 Reviews4 GB RAM | 64 GB ROM | Expandable Upto 512 GB16.71 cm (6.58 inch) Full HD+ Display50MP + 2MP | 8MP Front Camera5000 mAh Lithium Ion Polymer BatteryMediatek Dimensity 700 Processor1 Year Warranty for Handset and 6 Months for Accessories₹10,999₹15,99931% offFree delivery by TodayUpto ₹10,450 Off on ExchangeBank OfferAdd to CompareSAMSUNG Galaxy F14 5G (OMG Black, 128 GB)4.224,463 Ratings\\xa0&\\xa01,909 Reviews6 GB RAM | 128 GB ROM | Expandable Upto 1 TB16.76 cm (6.6 inch) Full HD+ Display50MP + 2MP | 13MP Front Camera6000 mAh BatteryExynos 1330, Octa Core Processor1 Year Manufacturer Warranty for Device and 6 Months Manufacturer Warranty for In-Box Accessories₹13,990₹18,49024% offFree delivery by TodayUpto ₹13,300 Off on ExchangeNo Cost EMI from ₹2,332/monthAdd to CompareAPPLE iPhone 13 (Blue, 128 GB)4.72,41,204 Ratings\\xa0&\\xa012,124 Reviews128 GB ROM15.49 cm (6.1 inch) Super Retina XDR Display12MP + 12MP | 12MP Front CameraA15 Bionic Chip ProcessorBrand Warranty for 1 Year₹61,999₹69,90011% offFree delivery by TodayDaily SaverUpto ₹38,600 Off on ExchangeAdd to ComparePOCO X5 Pro 5G (Horizon Blue, 256 GB)4.310,705 Ratings\\xa0&\\xa01,091 Reviews8 GB RAM | 256 GB ROM16.94 cm (6.67 inch) Full HD+ Display108MP + 8MP + 2MP | 16MP Front Camera5000 mAh BatteryQualcomm Snapdragon 778G Processor1 Year Manufacturer Warranty for Phone and 6 Months Warranty for in the Box Accessories₹22,999₹28,99920% offFree delivery by TodayUpto ₹20,850 Off on ExchangeBank OfferAdd to ComparePOCO X5 Pro 5G (Astral Black, 256 GB)4.310,705 Ratings\\xa0&\\xa01,091 Reviews8 GB RAM | 256 GB ROM16.94 cm (6.67 inch) Full HD+ Display108MP + 8MP + 2MP | 16MP Front Camera5000 mAh BatteryQualcomm Snapdragon 778G Processor1 Year Manufacturer Warranty for Phone and 6 Months Warranty for in the Box Accessories₹22,999₹28,99920% offFree delivery by TodayUpto ₹20,850 Off on ExchangeBank OfferAdd to ComparePOCO X5 5G (Wildcat Blue, 128 GB)4.111,985 Ratings\\xa0&\\xa0907 Reviews6 GB RAM | 128 GB ROM | Expandable Upto 1 TB16.94 cm (6.67 inch) Full HD+ Display48MP + 8MP + 2MP | 13MP Front Camera5000 mAh BatteryQualcomm Snapdragon 695 Processor1 Year Manufacturer Warranty for Phone and 6 Months Warranty for In the Box Accessories₹14,999₹20,99928% offFree delivery by TodayUpto ₹14,400 Off on ExchangeNo Cost EMI from ₹2,500/monthAdd to Comparerealme 10 Pro 5G (Dark Matter, 128 GB)4.324,229 Ratings\\xa0&\\xa01,759 Reviews8 GB RAM | 128 GB ROM | Expandable Upto 1 TB17.07 cm (6.72 inch) Full HD+ Display108MP + 2MP | 16MP Front Camera5000 mAh BatteryQualcomm Snapdragon 695 5G Processor1 Year Manufacturer Warranty for Phone and 6 Months Warranty for In-Box Accessories₹19,999₹22,99913% offAdd to CompareAPPLE iPhone 13 (Midnight, 128 GB)4.72,41,204 Ratings\\xa0&\\xa012,124 Reviews128 GB ROM15.49 cm (6.1 inch) Super Retina XDR Display12MP + 12MP | 12MP Front CameraA15 Bionic Chip ProcessorBrand Warranty for 1 Year₹61,999₹69,90011% offFree delivery by TodayUpto ₹38,600 Off on ExchangeBank OfferAdd to Comparerealme 10 Pro 5G (Hyperspace, 128 GB)4.324,229 Ratings\\xa0&\\xa01,759 Reviews8 GB RAM | 128 GB ROM | Expandable Upto 1 TB17.07 cm (6.72 inch) Full HD+ Display108MP + 2MP | 16MP Front Camera5000 mAh BatteryQualcomm Snapdragon 695 5G Processor1 Year Manufacturer Warranty for Phone and 6 Months Warranty for In-Box Accessories₹19,999₹22,99913% offFree delivery by TodayDaily SaverUpto ₹19,450 Off on ExchangeAdd to Comparerealme 10 Pro 5G (Nebula Blue, 128 GB)4.324,229 Ratings\\xa0&\\xa01,759 Reviews8 GB RAM | 128 GB ROM | Expandable Upto 1 TB17.07 cm (6.72 inch) Full HD+ Display108MP + 2MP | 16MP Front Camera5000 mAh BatteryQualcomm Snapdragon 695 5G Processor1 Year Manufacturer Warranty for Phone and 6 Months Warranty for In-Box Accessories₹19,999₹22,99913% offFree delivery by TodayDaily SaverUpto ₹19,450 Off on ExchangeAdd to Comparerealme 10 Pro 5G (Nebula Blue, 128 GB)4.331,947 Ratings\\xa0&\\xa02,340 Reviews6 GB RAM | 128 GB ROM | Expandable Upto 1 TB17.07 cm (6.72 inch) Full HD+ Display108MP + 2MP | 16MP Front Camera5000 mAh BatteryQualcomm Snapdragon 695 5G Processor1 Year Manufacturer Warranty for Phone and 6 Months Warranty for In-Box Accessories₹18,999₹20,9999% offAdd to Comparerealme 10 Pro 5G (Hyperspace, 128 GB)4.331,947 Ratings\\xa0&\\xa02,340 Reviews6 GB RAM | 128 GB ROM | Expandable Upto 1 TB17.07 cm (6.72 inch) Full HD+ Display108MP + 2MP | 16MP Front Camera5000 mAh BatteryQualcomm Snapdragon 695 5G Processor1 Year Manufacturer Warranty for Phone and 6 Months Warranty for In-Box Accessories₹18,999₹20,9999% offFree delivery by TodayUpto ₹18,150 Off on ExchangeBank OfferAdd to CompareGoogle Pixel 6a (Charcoal, 128 GB)4.353,860 Ratings\\xa0&\\xa06,423 Reviews6 GB RAM | 128 GB ROM15.6 cm (6.14 inch) Full HD+ Display12.2MP + 12MP | 8MP Front Camera4410 mAh BatteryGoogle Tensor Processor1 Year Brand Warranty₹27,999₹43,99936% offAdd to CompareGoogle Pixel 6a (Chalk, 128 GB)4.353,860 Ratings\\xa0&\\xa06,423 Reviews6 GB RAM | 128 GB ROM15.6 cm (6.14 inch) Full HD+ Display12.2MP + 12MP | 8MP Front Camera4410 mAh BatteryGoogle Tensor Processor1 Year Brand Warranty₹27,999₹43,99936% offAdd to CompareAPPLE iPhone 14 (Starlight, 128 GB)4.642,787 Ratings\\xa0&\\xa01,652 Reviews128 GB ROM15.49 cm (6.1 inch) Super Retina XDR Display12MP + 12MP | 12MP Front CameraA15 Bionic Chip, 6 Core Processor Processor1 Year Warranty for Phone and 6 Months Warranty for In-Box Accessories₹69,999₹79,90012% offFree delivery by TodayDaily SaverUpto ₹38,600 Off on ExchangePage 1 of 21012345678910NextDid you find what you were looking for?YesNoReviews for Popular Mobiles1. SAMSUNG Galaxy F14 5G (OMG ...4.224,463 Ratings&1,909 Reviews₹13,99024% off6 GB RAM | 128 GB ROM | Expandable Upto 1 TB16.76 cm (6.6 inch) Full HD+ Display50MP + 2MP | 13MP Front CameraMost Helpful Review5Best in the market!Awesome product, my father-in-low is so happy with this mobile , easy to use , light weight design ,I happy to see him happyRead full reviewFlipkart CustomerCertified Buyer2 months agoRecent Review1Terrible productAfter one month used, software essue started, worst, mobile don\\'t waste your time and moneyRead full reviewFlipkart CustomerCertified Buyer4 days ago2. vivo T2 5G (Velocity Wave, ...4.46,892 Ratings&463 Reviews₹20,99919% off8 GB RAM | 128 GB ROM16.21 cm (6.38 inch) Full HD+ Display64 MP (OIS) + 2MP | 16MP Front CameraMost Helpful Review5WonderfulMobile style and design okBest camera on this price.Read full reviewSubha  DasCertified Buyer3 months agoRecent Review5Great productVeary nice mobile I like this mobileRead full reviewMohd  AhsanCertified Buyer2 days ago3. realme 10 Pro 5G (Hyperspac...4.331,947 Ratings&2,340 Reviews₹18,9999% off6 GB RAM | 128 GB ROM | Expandable Upto 1 TB17.07 cm (6.72 inch) Full HD+ Display108MP + 2MP | 16MP Front CameraMost Helpful Review5Just wow!I am writing this review after using of 25daysThis is a totally awesome device in this price range 😎Read full reviewFlipkart CustomerCertified Buyer6 months agoRecent Review4Good choiceOverall good for the costRead full reviewKarthikeyan MCertified Buyer2 days ago4. SAMSUNG Galaxy F23 5G (Aqua...4.32,01,686 Ratings&15,471 Reviews₹15,49935% off6 GB RAM | 128 GB ROM | Expandable Upto 1 TB16.76 cm (6.6 inch) Full HD+ Display50MP + 8MP + 2MP | 8MP Front CameraMost Helpful Review5Classy productValue 📱 for money 😌👌🏻 Awesome camera performance ❣️Read full reviewSahanu SawCertified BuyerApr, 2022Recent Review5Highly recommendedValue for money and best processor.Read full reviewNij BhavsarCertified Buyer4 days ago5. Google Pixel 6a (Charcoal, ...4.353,860 Ratings&6,423 Reviews₹27,99936% off6 GB RAM | 128 GB ROM15.6 cm (6.14 inch) Full HD+ Display12.2MP + 12MP | 8MP Front CameraMost Helpful Review5Best in the market!Amazing phone from Google, the excellent camera quality. The phone is trust worthy.Read full reviewpavan madhyastaCertified Buyer11 months agoRecent Review4DelightfulCamera, display, battery, performance are good.Read full reviewManojkumar AraliCertified Buyer3 days agoABOUTContact UsAbout UsCareersFlipkart StoriesPressFlipkart WholesaleCorporate InformationHELPPaymentsShippingCancellation & ReturnsFAQReport InfringementCONSUMER POLICYReturn PolicyTerms Of UseSecurityPrivacySitemapGrievance RedressalEPR ComplianceSOCIALFacebookTwitterYouTubeMail Us:Flipkart Internet Private Limited, \\n Buildings Alyssa, Begonia & \\n Clove Embassy Tech Village, \\n Outer Ring Road, Devarabeesanahalli Village, \\n Bengaluru, 560103, \\n Karnataka, India\\nRegistered Office Address:Flipkart Internet Private Limited, \\n Buildings Alyssa, Begonia & \\n Clove Embassy Tech Village, \\n Outer Ring Road, Devarabeesanahalli Village, \\n Bengaluru, 560103, \\n Karnataka, India \\n CIN : U51109KA2012PTC066107 \\n Telephone: 044-45614700\\nBecome a SellerAdvertiseGift CardsHelp Center© 2007-2023 Flipkart.comBack to top   \\n \\n\\n  '"
            ],
            "application/vnd.google.colaboratory.intrinsic+json": {
              "type": "string"
            }
          },
          "metadata": {},
          "execution_count": 7
        }
      ]
    },
    {
      "cell_type": "code",
      "source": [
        "start_word = \"Add to Compare\"\n",
        "end_word = \"(\"\n",
        "start_index = text.find(start_word)\n",
        "end_index = text.find(end_word, start_index + len(start_word))\n",
        "name = ''\n",
        "if start_index != -1 and end_index != -1:\n",
        "    name = text[start_index + len(start_word):end_index].strip()\n",
        "\n",
        "print(name)"
      ],
      "metadata": {
        "colab": {
          "base_uri": "https://localhost:8080/"
        },
        "id": "hPfO8uhtZaXQ",
        "outputId": "2000ad04-0cf7-42c6-d610-d5a30f59c6f9"
      },
      "execution_count": null,
      "outputs": [
        {
          "output_type": "stream",
          "name": "stdout",
          "text": [
            "SAMSUNG Galaxy F23 5G\n"
          ]
        }
      ]
    },
    {
      "cell_type": "code",
      "source": [
        "start_word = \"Reviews\"\n",
        "end_word = \"ROM\"\n",
        "start_index = text.find(start_word)\n",
        "end_index = text.find(end_word, start_index + len(start_word))\n",
        "RAM_ROM = ''\n",
        "if start_index != -1 and end_index != -1:\n",
        "    RAM_ROM = text[start_index + len(start_word):end_index].strip()\n",
        "\n",
        "print(RAM_ROM)"
      ],
      "metadata": {
        "colab": {
          "base_uri": "https://localhost:8080/"
        },
        "id": "gUOu8ysWZbTw",
        "outputId": "cd1b25a5-87c2-4f4c-cf2f-b8b1a1dbf8ad"
      },
      "execution_count": null,
      "outputs": [
        {
          "output_type": "stream",
          "name": "stdout",
          "text": [
            "6 GB RAM | 128 GB\n"
          ]
        }
      ]
    },
    {
      "cell_type": "code",
      "source": [
        "start_word = \"GB)\"\n",
        "end_word = \"Ratings\"\n",
        "start_index = text.find(start_word)\n",
        "end_index = text.find(end_word, start_index + len(start_word))\n",
        "Rating_Sold = ''\n",
        "if start_index != -1 and end_index != -1:\n",
        "    Rating_Sold = text[start_index + len(start_word):end_index].strip()\n",
        "\n",
        "print(Rating_Sold)\n"
      ],
      "metadata": {
        "colab": {
          "base_uri": "https://localhost:8080/"
        },
        "id": "Ra5yFSZ-ZpXo",
        "outputId": "aa5fde42-af3c-4273-8e37-7ba68785dc38"
      },
      "execution_count": null,
      "outputs": [
        {
          "output_type": "stream",
          "name": "stdout",
          "text": [
            "4.32,01,686\n"
          ]
        }
      ]
    },
    {
      "cell_type": "code",
      "source": [
        "import re\n",
        "\n",
        "start_word = \"Add to Compare\"\n",
        "end_word = \"(\"\n",
        "\n",
        "escaped_start_word = re.escape(start_word)\n",
        "escaped_end_word = re.escape(end_word)\n",
        "\n",
        "pattern = f\"{escaped_start_word}(.*?){escaped_end_word}\"\n",
        "matches = re.finditer(pattern, text)\n",
        "name = []\n",
        "\n",
        "for match in matches:\n",
        "    project = match.group(1).strip()\n",
        "    name.append(project)\n",
        "\n",
        "print(name)"
      ],
      "metadata": {
        "colab": {
          "base_uri": "https://localhost:8080/"
        },
        "id": "SAlkFrwEZto4",
        "outputId": "e2720e25-04d5-4024-f976-91707426a7e5"
      },
      "execution_count": null,
      "outputs": [
        {
          "output_type": "stream",
          "name": "stdout",
          "text": [
            "['SAMSUNG Galaxy F23 5G', 'SAMSUNG Galaxy F23 5G', 'POCO M4 5G', 'POCO M4 5G', 'POCO M4 5G', 'vivo T2 5G', 'POCO M4 5G', 'SAMSUNG Galaxy F23 5G', 'SAMSUNG Galaxy F14 5G', 'POCO M4 5G', 'SAMSUNG Galaxy F14 5G', 'APPLE iPhone 13', 'POCO X5 Pro 5G', 'POCO X5 Pro 5G', 'POCO X5 5G', 'realme 10 Pro 5G', 'APPLE iPhone 13', 'realme 10 Pro 5G', 'realme 10 Pro 5G', 'realme 10 Pro 5G', 'realme 10 Pro 5G', 'Google Pixel 6a', 'Google Pixel 6a', 'APPLE iPhone 14']\n"
          ]
        }
      ]
    },
    {
      "cell_type": "code",
      "source": [
        "name"
      ],
      "metadata": {
        "colab": {
          "base_uri": "https://localhost:8080/"
        },
        "id": "o92DQlqvZxHI",
        "outputId": "561ef545-0ea4-4d46-b274-c40f7dd5a49e"
      },
      "execution_count": null,
      "outputs": [
        {
          "output_type": "execute_result",
          "data": {
            "text/plain": [
              "['SAMSUNG Galaxy F23 5G',\n",
              " 'SAMSUNG Galaxy F23 5G',\n",
              " 'POCO M4 5G',\n",
              " 'POCO M4 5G',\n",
              " 'POCO M4 5G',\n",
              " 'vivo T2 5G',\n",
              " 'POCO M4 5G',\n",
              " 'SAMSUNG Galaxy F23 5G',\n",
              " 'SAMSUNG Galaxy F14 5G',\n",
              " 'POCO M4 5G',\n",
              " 'SAMSUNG Galaxy F14 5G',\n",
              " 'APPLE iPhone 13',\n",
              " 'POCO X5 Pro 5G',\n",
              " 'POCO X5 Pro 5G',\n",
              " 'POCO X5 5G',\n",
              " 'realme 10 Pro 5G',\n",
              " 'APPLE iPhone 13',\n",
              " 'realme 10 Pro 5G',\n",
              " 'realme 10 Pro 5G',\n",
              " 'realme 10 Pro 5G',\n",
              " 'realme 10 Pro 5G',\n",
              " 'Google Pixel 6a',\n",
              " 'Google Pixel 6a',\n",
              " 'APPLE iPhone 14']"
            ]
          },
          "metadata": {},
          "execution_count": 13
        }
      ]
    },
    {
      "cell_type": "code",
      "source": [
        "import re\n",
        "\n",
        "start_word = \"Reviews\"\n",
        "end_word = \"ROM\"\n",
        "\n",
        "escaped_start_word = re.escape(start_word)\n",
        "escaped_end_word = re.escape(end_word)\n",
        "\n",
        "pattern = f\"{escaped_start_word}(.*?){escaped_end_word}\"\n",
        "matches = re.finditer(pattern, text)\n",
        "RAM_ROM = []\n",
        "\n",
        "for match in matches:\n",
        "    project = match.group(1).strip()\n",
        "    RAM_ROM.append(project)\n",
        "\n",
        "print(RAM_ROM)"
      ],
      "metadata": {
        "colab": {
          "base_uri": "https://localhost:8080/"
        },
        "id": "x8CAuXhxZ0M3",
        "outputId": "bf936664-e306-4cba-bf0e-1d4f6cb322e9"
      },
      "execution_count": null,
      "outputs": [
        {
          "output_type": "stream",
          "name": "stdout",
          "text": [
            "['6 GB RAM | 128 GB', '6 GB RAM | 128 GB', '4 GB RAM | 64 GB', '6 GB RAM | 128 GB', '6 GB RAM | 128 GB', '8 GB RAM | 128 GB', '4 GB RAM | 64 GB', '6 GB RAM | 128 GB', '6 GB RAM | 128 GB', '4 GB RAM | 64 GB', '6 GB RAM | 128 GB', '128 GB', '8 GB RAM | 256 GB', '8 GB RAM | 256 GB', '6 GB RAM | 128 GB', '8 GB RAM | 128 GB', '128 GB', '8 GB RAM | 128 GB', '8 GB RAM | 128 GB', '6 GB RAM | 128 GB', '6 GB RAM | 128 GB', '6 GB RAM | 128 GB', '6 GB RAM | 128 GB', '128 GB', 'for Popular Mobiles1. SAMSUNG Galaxy F14 5G (OMG ...4.224,463 Ratings&1,909 Reviews₹13,99024% off6 GB RAM | 128 GB', '₹20,99919% off8 GB RAM | 128 GB', '₹18,9999% off6 GB RAM | 128 GB', '₹15,49935% off6 GB RAM | 128 GB', '₹27,99936% off6 GB RAM | 128 GB']\n"
          ]
        }
      ]
    },
    {
      "cell_type": "code",
      "source": [
        "RAM_ROM"
      ],
      "metadata": {
        "colab": {
          "base_uri": "https://localhost:8080/"
        },
        "id": "nDe4hZWUaKMI",
        "outputId": "93566152-1b87-4987-8004-4fbfb8755366"
      },
      "execution_count": null,
      "outputs": [
        {
          "output_type": "execute_result",
          "data": {
            "text/plain": [
              "['6 GB RAM | 128 GB',\n",
              " '6 GB RAM | 128 GB',\n",
              " '4 GB RAM | 64 GB',\n",
              " '6 GB RAM | 128 GB',\n",
              " '6 GB RAM | 128 GB',\n",
              " '8 GB RAM | 128 GB',\n",
              " '4 GB RAM | 64 GB',\n",
              " '6 GB RAM | 128 GB',\n",
              " '6 GB RAM | 128 GB',\n",
              " '4 GB RAM | 64 GB',\n",
              " '6 GB RAM | 128 GB',\n",
              " '128 GB',\n",
              " '8 GB RAM | 256 GB',\n",
              " '8 GB RAM | 256 GB',\n",
              " '6 GB RAM | 128 GB',\n",
              " '8 GB RAM | 128 GB',\n",
              " '128 GB',\n",
              " '8 GB RAM | 128 GB',\n",
              " '8 GB RAM | 128 GB',\n",
              " '6 GB RAM | 128 GB',\n",
              " '6 GB RAM | 128 GB',\n",
              " '6 GB RAM | 128 GB',\n",
              " '6 GB RAM | 128 GB',\n",
              " '128 GB',\n",
              " 'for Popular Mobiles1. SAMSUNG Galaxy F14 5G (OMG ...4.224,463 Ratings&1,909 Reviews₹13,99024% off6 GB RAM | 128 GB',\n",
              " '₹20,99919% off8 GB RAM | 128 GB',\n",
              " '₹18,9999% off6 GB RAM | 128 GB',\n",
              " '₹15,49935% off6 GB RAM | 128 GB',\n",
              " '₹27,99936% off6 GB RAM | 128 GB']"
            ]
          },
          "metadata": {},
          "execution_count": 15
        }
      ]
    },
    {
      "cell_type": "code",
      "source": [
        "new_RAM_ROM = RAM_ROM[:-5]  # Remove the last 5 elements\n",
        "\n",
        "print(new_RAM_ROM)"
      ],
      "metadata": {
        "colab": {
          "base_uri": "https://localhost:8080/"
        },
        "id": "xp2Vc955aM-Y",
        "outputId": "eceef52f-6670-4d30-848e-e749de61e2d6"
      },
      "execution_count": null,
      "outputs": [
        {
          "output_type": "stream",
          "name": "stdout",
          "text": [
            "['6 GB RAM | 128 GB', '6 GB RAM | 128 GB', '4 GB RAM | 64 GB', '6 GB RAM | 128 GB', '6 GB RAM | 128 GB', '8 GB RAM | 128 GB', '4 GB RAM | 64 GB', '6 GB RAM | 128 GB', '6 GB RAM | 128 GB', '4 GB RAM | 64 GB', '6 GB RAM | 128 GB', '128 GB', '8 GB RAM | 256 GB', '8 GB RAM | 256 GB', '6 GB RAM | 128 GB', '8 GB RAM | 128 GB', '128 GB', '8 GB RAM | 128 GB', '8 GB RAM | 128 GB', '6 GB RAM | 128 GB', '6 GB RAM | 128 GB', '6 GB RAM | 128 GB', '6 GB RAM | 128 GB', '128 GB']\n"
          ]
        }
      ]
    },
    {
      "cell_type": "code",
      "source": [
        "modified_RAM_ROM = [element if '|' in element else '0 GB RAM | ' + element for element in new_RAM_ROM]\n",
        "\n",
        "print(modified_RAM_ROM)"
      ],
      "metadata": {
        "colab": {
          "base_uri": "https://localhost:8080/"
        },
        "id": "FgxIwMJ-aPlY",
        "outputId": "5ecdca22-442e-4ae1-f0cb-7f537a63633a"
      },
      "execution_count": null,
      "outputs": [
        {
          "output_type": "stream",
          "name": "stdout",
          "text": [
            "['6 GB RAM | 128 GB', '6 GB RAM | 128 GB', '4 GB RAM | 64 GB', '6 GB RAM | 128 GB', '6 GB RAM | 128 GB', '8 GB RAM | 128 GB', '4 GB RAM | 64 GB', '6 GB RAM | 128 GB', '6 GB RAM | 128 GB', '4 GB RAM | 64 GB', '6 GB RAM | 128 GB', '0 GB RAM | 128 GB', '8 GB RAM | 256 GB', '8 GB RAM | 256 GB', '6 GB RAM | 128 GB', '8 GB RAM | 128 GB', '0 GB RAM | 128 GB', '8 GB RAM | 128 GB', '8 GB RAM | 128 GB', '6 GB RAM | 128 GB', '6 GB RAM | 128 GB', '6 GB RAM | 128 GB', '6 GB RAM | 128 GB', '0 GB RAM | 128 GB']\n"
          ]
        }
      ]
    },
    {
      "cell_type": "code",
      "source": [
        "modified_RAM_ROM"
      ],
      "metadata": {
        "colab": {
          "base_uri": "https://localhost:8080/"
        },
        "id": "SEzjp6IfaSOY",
        "outputId": "1b553991-d419-48f0-f377-75e6b8dddd6d"
      },
      "execution_count": null,
      "outputs": [
        {
          "output_type": "execute_result",
          "data": {
            "text/plain": [
              "['6 GB RAM | 128 GB',\n",
              " '6 GB RAM | 128 GB',\n",
              " '4 GB RAM | 64 GB',\n",
              " '6 GB RAM | 128 GB',\n",
              " '6 GB RAM | 128 GB',\n",
              " '8 GB RAM | 128 GB',\n",
              " '4 GB RAM | 64 GB',\n",
              " '6 GB RAM | 128 GB',\n",
              " '6 GB RAM | 128 GB',\n",
              " '4 GB RAM | 64 GB',\n",
              " '6 GB RAM | 128 GB',\n",
              " '0 GB RAM | 128 GB',\n",
              " '8 GB RAM | 256 GB',\n",
              " '8 GB RAM | 256 GB',\n",
              " '6 GB RAM | 128 GB',\n",
              " '8 GB RAM | 128 GB',\n",
              " '0 GB RAM | 128 GB',\n",
              " '8 GB RAM | 128 GB',\n",
              " '8 GB RAM | 128 GB',\n",
              " '6 GB RAM | 128 GB',\n",
              " '6 GB RAM | 128 GB',\n",
              " '6 GB RAM | 128 GB',\n",
              " '6 GB RAM | 128 GB',\n",
              " '0 GB RAM | 128 GB']"
            ]
          },
          "metadata": {},
          "execution_count": 18
        }
      ]
    },
    {
      "cell_type": "code",
      "source": [
        "RAM = [element.split(\" | \")[0] for element in modified_RAM_ROM]\n",
        "ROM = [element.split(\" | \")[1] for element in modified_RAM_ROM]\n",
        "\n",
        "print(RAM)\n",
        "print(ROM)"
      ],
      "metadata": {
        "colab": {
          "base_uri": "https://localhost:8080/"
        },
        "id": "Ml-9isfXaUzI",
        "outputId": "a6ccf7e8-ba57-42a5-b1a2-fa926f3c9a9d"
      },
      "execution_count": null,
      "outputs": [
        {
          "output_type": "stream",
          "name": "stdout",
          "text": [
            "['6 GB RAM', '6 GB RAM', '4 GB RAM', '6 GB RAM', '6 GB RAM', '8 GB RAM', '4 GB RAM', '6 GB RAM', '6 GB RAM', '4 GB RAM', '6 GB RAM', '0 GB RAM', '8 GB RAM', '8 GB RAM', '6 GB RAM', '8 GB RAM', '0 GB RAM', '8 GB RAM', '8 GB RAM', '6 GB RAM', '6 GB RAM', '6 GB RAM', '6 GB RAM', '0 GB RAM']\n",
            "['128 GB', '128 GB', '64 GB', '128 GB', '128 GB', '128 GB', '64 GB', '128 GB', '128 GB', '64 GB', '128 GB', '128 GB', '256 GB', '256 GB', '128 GB', '128 GB', '128 GB', '128 GB', '128 GB', '128 GB', '128 GB', '128 GB', '128 GB', '128 GB']\n"
          ]
        }
      ]
    },
    {
      "cell_type": "code",
      "source": [
        "RAM_digit = [re.sub(r'\\D', '', element) for element in RAM]\n",
        "\n",
        "print(RAM_digit)"
      ],
      "metadata": {
        "colab": {
          "base_uri": "https://localhost:8080/"
        },
        "id": "yZCwXGz3aXjo",
        "outputId": "9a05bad4-0745-466d-932b-18050c6ec389"
      },
      "execution_count": null,
      "outputs": [
        {
          "output_type": "stream",
          "name": "stdout",
          "text": [
            "['6', '6', '4', '6', '6', '8', '4', '6', '6', '4', '6', '0', '8', '8', '6', '8', '0', '8', '8', '6', '6', '6', '6', '0']\n"
          ]
        }
      ]
    },
    {
      "cell_type": "code",
      "source": [
        "ROM_digit = [re.sub(r'\\D', '', element) for element in ROM]\n",
        "\n",
        "print(ROM_digit)"
      ],
      "metadata": {
        "colab": {
          "base_uri": "https://localhost:8080/"
        },
        "id": "20tf2qTraaXI",
        "outputId": "6999a7f8-a80f-42ac-c0a5-de8039218770"
      },
      "execution_count": null,
      "outputs": [
        {
          "output_type": "stream",
          "name": "stdout",
          "text": [
            "['128', '128', '64', '128', '128', '128', '64', '128', '128', '64', '128', '128', '256', '256', '128', '128', '128', '128', '128', '128', '128', '128', '128', '128']\n"
          ]
        }
      ]
    },
    {
      "cell_type": "code",
      "source": [
        "import re\n",
        "\n",
        "start_word = \"GB)\"\n",
        "end_word = \"Rating\"\n",
        "\n",
        "escaped_start_word = re.escape(start_word)\n",
        "escaped_end_word = re.escape(end_word)\n",
        "\n",
        "pattern = f\"{escaped_start_word}(.*?){escaped_end_word}\"\n",
        "matches = re.finditer(pattern, text)\n",
        "Rating_and_Sold = []\n",
        "\n",
        "for match in matches:\n",
        "    project = match.group(1).strip()\n",
        "    Rating_and_Sold.append(project)\n",
        "\n",
        "print(Rating_and_Sold)"
      ],
      "metadata": {
        "colab": {
          "base_uri": "https://localhost:8080/"
        },
        "id": "v-DgMkAwacqZ",
        "outputId": "f090d381-0124-4d6c-c8f1-9f1ae224feed"
      },
      "execution_count": null,
      "outputs": [
        {
          "output_type": "stream",
          "name": "stdout",
          "text": [
            "['4.32,01,686', '4.32,01,686', '4.287,539', '4.244,319', '4.244,319', '4.46,892', '4.287,539', '4.32,01,686', '4.224,463', '4.287,539', '4.224,463', '4.72,41,204', '4.310,705', '4.310,705', '4.111,985', '4.324,229', '4.72,41,204', '4.324,229', '4.324,229', '4.331,947', '4.331,947', '4.353,860', '4.353,860', '4.642,787']\n"
          ]
        }
      ]
    },
    {
      "cell_type": "code",
      "source": [
        "Rating_and_Sold"
      ],
      "metadata": {
        "colab": {
          "base_uri": "https://localhost:8080/"
        },
        "id": "hIeYub_lae9p",
        "outputId": "9ae1214f-ef59-47d1-874c-fbcb30712337"
      },
      "execution_count": null,
      "outputs": [
        {
          "output_type": "execute_result",
          "data": {
            "text/plain": [
              "['4.32,01,686',\n",
              " '4.32,01,686',\n",
              " '4.287,539',\n",
              " '4.244,319',\n",
              " '4.244,319',\n",
              " '4.46,892',\n",
              " '4.287,539',\n",
              " '4.32,01,686',\n",
              " '4.224,463',\n",
              " '4.287,539',\n",
              " '4.224,463',\n",
              " '4.72,41,204',\n",
              " '4.310,705',\n",
              " '4.310,705',\n",
              " '4.111,985',\n",
              " '4.324,229',\n",
              " '4.72,41,204',\n",
              " '4.324,229',\n",
              " '4.324,229',\n",
              " '4.331,947',\n",
              " '4.331,947',\n",
              " '4.353,860',\n",
              " '4.353,860',\n",
              " '4.642,787']"
            ]
          },
          "metadata": {},
          "execution_count": 23
        }
      ]
    },
    {
      "cell_type": "code",
      "source": [
        "# Splitting into two sets\n",
        "Rating = [element[:3] for element in Rating_and_Sold]\n",
        "Sold = [element[3:] for element in Rating_and_Sold]\n",
        "\n",
        "print(Rating)\n",
        "print(Sold)"
      ],
      "metadata": {
        "colab": {
          "base_uri": "https://localhost:8080/"
        },
        "id": "x44NqXlWah4I",
        "outputId": "7e9fdbd1-3d5a-40d7-8a98-7b12dab268ff"
      },
      "execution_count": null,
      "outputs": [
        {
          "output_type": "stream",
          "name": "stdout",
          "text": [
            "['4.3', '4.3', '4.2', '4.2', '4.2', '4.4', '4.2', '4.3', '4.2', '4.2', '4.2', '4.7', '4.3', '4.3', '4.1', '4.3', '4.7', '4.3', '4.3', '4.3', '4.3', '4.3', '4.3', '4.6']\n",
            "['2,01,686', '2,01,686', '87,539', '44,319', '44,319', '6,892', '87,539', '2,01,686', '24,463', '87,539', '24,463', '2,41,204', '10,705', '10,705', '11,985', '24,229', '2,41,204', '24,229', '24,229', '31,947', '31,947', '53,860', '53,860', '42,787']\n"
          ]
        }
      ]
    },
    {
      "cell_type": "code",
      "source": [
        "Rating"
      ],
      "metadata": {
        "colab": {
          "base_uri": "https://localhost:8080/"
        },
        "id": "dHreesU6akRY",
        "outputId": "9f76e1d0-cdfd-4a8e-8dfd-70562c54d63a"
      },
      "execution_count": null,
      "outputs": [
        {
          "output_type": "execute_result",
          "data": {
            "text/plain": [
              "['4.3',\n",
              " '4.3',\n",
              " '4.2',\n",
              " '4.2',\n",
              " '4.2',\n",
              " '4.4',\n",
              " '4.2',\n",
              " '4.3',\n",
              " '4.2',\n",
              " '4.2',\n",
              " '4.2',\n",
              " '4.7',\n",
              " '4.3',\n",
              " '4.3',\n",
              " '4.1',\n",
              " '4.3',\n",
              " '4.7',\n",
              " '4.3',\n",
              " '4.3',\n",
              " '4.3',\n",
              " '4.3',\n",
              " '4.3',\n",
              " '4.3',\n",
              " '4.6']"
            ]
          },
          "metadata": {},
          "execution_count": 25
        }
      ]
    },
    {
      "cell_type": "code",
      "source": [
        "Sold"
      ],
      "metadata": {
        "colab": {
          "base_uri": "https://localhost:8080/"
        },
        "id": "t3tSc13Yap5J",
        "outputId": "a8109f9f-1ba1-46dd-de3a-dd11788da578"
      },
      "execution_count": null,
      "outputs": [
        {
          "output_type": "execute_result",
          "data": {
            "text/plain": [
              "['2,01,686',\n",
              " '2,01,686',\n",
              " '87,539',\n",
              " '44,319',\n",
              " '44,319',\n",
              " '6,892',\n",
              " '87,539',\n",
              " '2,01,686',\n",
              " '24,463',\n",
              " '87,539',\n",
              " '24,463',\n",
              " '2,41,204',\n",
              " '10,705',\n",
              " '10,705',\n",
              " '11,985',\n",
              " '24,229',\n",
              " '2,41,204',\n",
              " '24,229',\n",
              " '24,229',\n",
              " '31,947',\n",
              " '31,947',\n",
              " '53,860',\n",
              " '53,860',\n",
              " '42,787']"
            ]
          },
          "metadata": {},
          "execution_count": 26
        }
      ]
    },
    {
      "cell_type": "code",
      "source": [
        "# Remove commas from the elements\n",
        "Sold_Data = [element.replace(',', '') for element in Sold]\n",
        "\n",
        "print(Sold_Data)"
      ],
      "metadata": {
        "colab": {
          "base_uri": "https://localhost:8080/"
        },
        "id": "p1h0rAhGasmp",
        "outputId": "41b342af-84b1-49e8-ee4a-b00c0adc1f6d"
      },
      "execution_count": null,
      "outputs": [
        {
          "output_type": "stream",
          "name": "stdout",
          "text": [
            "['201686', '201686', '87539', '44319', '44319', '6892', '87539', '201686', '24463', '87539', '24463', '241204', '10705', '10705', '11985', '24229', '241204', '24229', '24229', '31947', '31947', '53860', '53860', '42787']\n"
          ]
        }
      ]
    },
    {
      "cell_type": "code",
      "source": [
        "Sold_Data"
      ],
      "metadata": {
        "colab": {
          "base_uri": "https://localhost:8080/"
        },
        "id": "mk88MKl1avbI",
        "outputId": "66749702-c521-4536-c5aa-e7460b510d81"
      },
      "execution_count": null,
      "outputs": [
        {
          "output_type": "execute_result",
          "data": {
            "text/plain": [
              "['201686',\n",
              " '201686',\n",
              " '87539',\n",
              " '44319',\n",
              " '44319',\n",
              " '6892',\n",
              " '87539',\n",
              " '201686',\n",
              " '24463',\n",
              " '87539',\n",
              " '24463',\n",
              " '241204',\n",
              " '10705',\n",
              " '10705',\n",
              " '11985',\n",
              " '24229',\n",
              " '241204',\n",
              " '24229',\n",
              " '24229',\n",
              " '31947',\n",
              " '31947',\n",
              " '53860',\n",
              " '53860',\n",
              " '42787']"
            ]
          },
          "metadata": {},
          "execution_count": 28
        }
      ]
    },
    {
      "cell_type": "code",
      "source": [
        "import csv"
      ],
      "metadata": {
        "id": "C24TrEevaxyZ"
      },
      "execution_count": null,
      "outputs": []
    },
    {
      "cell_type": "code",
      "source": [
        "data = zip(name ,RAM_digit, ROM_digit, Sold_Data, Rating)\n",
        "\n",
        "filename = 'data.csv'\n",
        "\n",
        "with open(filename, 'w', newline='') as csvfile:\n",
        "    writer = csv.writer(csvfile)\n",
        "    writer.writerow(['Name', 'RAM', 'ROM', 'Sold Quantity', 'Rating'])  # Write header row\n",
        "    writer.writerows(data)\n",
        "\n",
        "print(f\"Data has been written to {filename}.\")"
      ],
      "metadata": {
        "colab": {
          "base_uri": "https://localhost:8080/"
        },
        "id": "xjKchcyta1G5",
        "outputId": "6a165930-3c87-4b8b-df53-28c4afd5c68f"
      },
      "execution_count": null,
      "outputs": [
        {
          "output_type": "stream",
          "name": "stdout",
          "text": [
            "Data has been written to data.csv.\n"
          ]
        }
      ]
    },
    {
      "cell_type": "code",
      "source": [
        "# Find all the links on the page\n",
        "links = soup.find_all('a')\n",
        "print('Links:')\n",
        "for link in links:\n",
        "    print(link.get('href'))"
      ],
      "metadata": {
        "colab": {
          "base_uri": "https://localhost:8080/"
        },
        "id": "N9n_JzpZbCD4",
        "outputId": "6f44a1ee-e0a9-4d0d-e313-22c65ea48d68"
      },
      "execution_count": null,
      "outputs": [
        {
          "output_type": "stream",
          "name": "stdout",
          "text": [
            "Links:\n",
            "/\n",
            "/plus\n",
            "/account/login?ret=/search%3Fq%3Dmobile%2Bphone%2B5g\n",
            "https://seller.flipkart.com/sell-online/?utm_source=fkwebsite&utm_medium=websitedirect\n",
            "/viewcart?exploreMode=true&preference=FLIPKART\n",
            "/mobiles-accessories/pr?sid=tyy&q=mobile+phone+5g&otracker=categorytree\n",
            "/mobiles/pr?sid=tyy,4io&q=mobile+phone+5g&otracker=categorytree\n",
            "/buying-guide/mobiles?sid=tyy,4io&otracker=bg_from_browse_lhs\n",
            "/\n",
            "/mobiles-accessories/pr?sid=tyy&marketplace=FLIPKART\n",
            "/mobiles/pr?sid=tyy,4io&marketplace=FLIPKART\n",
            "/samsung-galaxy-f23-5g-forest-green-128-gb/p/itm4001e68fda319?pid=MOBGBKQF3QM4GHWN&lid=LSTMOBGBKQF3QM4GHWNJ56YXY&marketplace=FLIPKART&q=mobile+phone+5g&store=tyy%2F4io&srno=s_1_1&otracker=search&fm=organic&iid=3a919578-0bb8-4de6-b587-9a61558810da.MOBGBKQF3QM4GHWN.SEARCH&ppt=None&ppn=None&ssid=9ehktj8y0w0000001690344871277&qH=fa331f09cdd30848\n",
            "/samsung-galaxy-f23-5g-aqua-blue-128-gb/p/itme54bc0c2292f4?pid=MOBGBKQF45XPEUHA&lid=LSTMOBGBKQF45XPEUHAYAHBJE&marketplace=FLIPKART&q=mobile+phone+5g&store=tyy%2F4io&srno=s_1_2&otracker=search&fm=organic&iid=3a919578-0bb8-4de6-b587-9a61558810da.MOBGBKQF45XPEUHA.SEARCH&ppt=None&ppn=None&ssid=9ehktj8y0w0000001690344871277&qH=fa331f09cdd30848\n",
            "/poco-m4-5g-power-black-64-gb/p/itmdca739218a8a0?pid=MOBGDRGPZTSHNQ5H&lid=LSTMOBGDRGPZTSHNQ5HK2U5VI&marketplace=FLIPKART&q=mobile+phone+5g&store=tyy%2F4io&srno=s_1_3&otracker=search&fm=organic&iid=3a919578-0bb8-4de6-b587-9a61558810da.MOBGDRGPZTSHNQ5H.SEARCH&ppt=None&ppn=None&ssid=9ehktj8y0w0000001690344871277&qH=fa331f09cdd30848\n",
            "/poco-m4-5g-power-black-128-gb/p/itm967111aabdc3f?pid=MOBGDRGPQQGTRXU9&lid=LSTMOBGDRGPQQGTRXU9P0JJRO&marketplace=FLIPKART&q=mobile+phone+5g&store=tyy%2F4io&srno=s_1_4&otracker=search&fm=organic&iid=3a919578-0bb8-4de6-b587-9a61558810da.MOBGDRGPQQGTRXU9.SEARCH&ppt=None&ppn=None&ssid=9ehktj8y0w0000001690344871277&qH=fa331f09cdd30848\n",
            "/poco-m4-5g-cool-blue-128-gb/p/itm1603244ab4f2e?pid=MOBGDRGPUMTED5D5&lid=LSTMOBGDRGPUMTED5D5B907AY&marketplace=FLIPKART&q=mobile+phone+5g&store=tyy%2F4io&srno=s_1_5&otracker=search&fm=organic&iid=3a919578-0bb8-4de6-b587-9a61558810da.MOBGDRGPUMTED5D5.SEARCH&ppt=None&ppn=None&ssid=9ehktj8y0w0000001690344871277&qH=fa331f09cdd30848\n",
            "/vivo-t2-5g-velocity-wave-128-gb/p/itma79eb573156a4?pid=MOBGZBFU2GHZTMGN&lid=LSTMOBGZBFU2GHZTMGNEFEQUV&marketplace=FLIPKART&q=mobile+phone+5g&store=tyy%2F4io&srno=s_1_6&otracker=search&fm=organic&iid=3a919578-0bb8-4de6-b587-9a61558810da.MOBGZBFU2GHZTMGN.SEARCH&ppt=None&ppn=None&ssid=9ehktj8y0w0000001690344871277&qH=fa331f09cdd30848\n",
            "/poco-m4-5g-yellow-64-gb/p/itm5bd9222dd1355?pid=MOBGDRGPBZHUC3VZ&lid=LSTMOBGDRGPBZHUC3VZKR84R7&marketplace=FLIPKART&q=mobile+phone+5g&store=tyy%2F4io&srno=s_1_7&otracker=search&fm=organic&iid=3a919578-0bb8-4de6-b587-9a61558810da.MOBGDRGPBZHUC3VZ.SEARCH&ppt=None&ppn=None&ssid=9ehktj8y0w0000001690344871277&qH=fa331f09cdd30848\n",
            "/samsung-galaxy-f23-5g-copper-blush-128-gb/p/itm59c8bf3255ef6?pid=MOBGE2ZU2YBUAEVZ&lid=LSTMOBGE2ZU2YBUAEVZJXNB2M&marketplace=FLIPKART&q=mobile+phone+5g&store=tyy%2F4io&srno=s_1_8&otracker=search&fm=organic&iid=3a919578-0bb8-4de6-b587-9a61558810da.MOBGE2ZU2YBUAEVZ.SEARCH&ppt=None&ppn=None&ssid=9ehktj8y0w0000001690344871277&qH=fa331f09cdd30848\n",
            "/samsung-galaxy-f14-5g-goat-green-128-gb/p/itm032d1a69999cc?pid=MOBGNBFNDPGNJ7HY&lid=LSTMOBGNBFNDPGNJ7HYRCCFUH&marketplace=FLIPKART&q=mobile+phone+5g&store=tyy%2F4io&spotlightTagId=BestsellerId_tyy%2F4io&srno=s_1_9&otracker=search&fm=organic&iid=3a919578-0bb8-4de6-b587-9a61558810da.MOBGNBFNDPGNJ7HY.SEARCH&ppt=None&ppn=None&ssid=9ehktj8y0w0000001690344871277&qH=fa331f09cdd30848\n",
            "/poco-m4-5g-cool-blue-64-gb/p/itm7b27dd2f5da7e?pid=MOBGDRGPD6YGVHXZ&lid=LSTMOBGDRGPD6YGVHXZBYCJDP&marketplace=FLIPKART&q=mobile+phone+5g&store=tyy%2F4io&spotlightTagId=BestsellerId_tyy%2F4io&srno=s_1_10&otracker=search&fm=organic&iid=3a919578-0bb8-4de6-b587-9a61558810da.MOBGDRGPD6YGVHXZ.SEARCH&ppt=None&ppn=None&ssid=9ehktj8y0w0000001690344871277&qH=fa331f09cdd30848\n",
            "/samsung-galaxy-f14-5g-omg-black-128-gb/p/itmae94033406fb2?pid=MOBGNBFNE6KGXCCR&lid=LSTMOBGNBFNE6KGXCCRXLTXS7&marketplace=FLIPKART&q=mobile+phone+5g&store=tyy%2F4io&srno=s_1_11&otracker=search&fm=organic&iid=3a919578-0bb8-4de6-b587-9a61558810da.MOBGNBFNE6KGXCCR.SEARCH&ppt=None&ppn=None&ssid=9ehktj8y0w0000001690344871277&qH=fa331f09cdd30848\n",
            "/apple-iphone-13-blue-128-gb/p/itm6c601e0a58b3c?pid=MOBG6VF5SMXPNQHG&lid=LSTMOBG6VF5SMXPNQHGH3DY6Z&marketplace=FLIPKART&q=mobile+phone+5g&store=tyy%2F4io&srno=s_1_12&otracker=search&fm=organic&iid=3a919578-0bb8-4de6-b587-9a61558810da.MOBG6VF5SMXPNQHG.SEARCH&ppt=None&ppn=None&ssid=9ehktj8y0w0000001690344871277&qH=fa331f09cdd30848\n",
            "/poco-x5-pro-5g-horizon-blue-256-gb/p/itm7d7b6b78895bc?pid=MOBGMDKQ2NHTBHJM&lid=LSTMOBGMDKQ2NHTBHJMQ7AMXN&marketplace=FLIPKART&q=mobile+phone+5g&store=tyy%2F4io&srno=s_1_13&otracker=search&fm=organic&iid=3a919578-0bb8-4de6-b587-9a61558810da.MOBGMDKQ2NHTBHJM.SEARCH&ppt=None&ppn=None&ssid=9ehktj8y0w0000001690344871277&qH=fa331f09cdd30848\n",
            "/poco-x5-pro-5g-astral-black-256-gb/p/itm6bf766212d183?pid=MOBGMDKQJ9WVEFYK&lid=LSTMOBGMDKQJ9WVEFYKZEUY55&marketplace=FLIPKART&q=mobile+phone+5g&store=tyy%2F4io&srno=s_1_14&otracker=search&fm=organic&iid=3a919578-0bb8-4de6-b587-9a61558810da.MOBGMDKQJ9WVEFYK.SEARCH&ppt=None&ppn=None&ssid=9ehktj8y0w0000001690344871277&qH=fa331f09cdd30848\n",
            "/poco-x5-5g-wildcat-blue-128-gb/p/itm6a8049291a98f?pid=MOBGNBFBPH6Q5ZN4&lid=LSTMOBGNBFBPH6Q5ZN4WSEDVR&marketplace=FLIPKART&q=mobile+phone+5g&store=tyy%2F4io&srno=s_1_15&otracker=search&fm=organic&iid=3a919578-0bb8-4de6-b587-9a61558810da.MOBGNBFBPH6Q5ZN4.SEARCH&ppt=None&ppn=None&ssid=9ehktj8y0w0000001690344871277&qH=fa331f09cdd30848\n",
            "/realme-10-pro-5g-dark-matter-128-gb/p/itm1e672d12a252e?pid=MOBGK8VHZGEEGXFR&lid=LSTMOBGK8VHZGEEGXFRIWIE6H&marketplace=FLIPKART&q=mobile+phone+5g&store=tyy%2F4io&srno=s_1_16&otracker=search&fm=organic&iid=3a919578-0bb8-4de6-b587-9a61558810da.MOBGK8VHZGEEGXFR.SEARCH&ppt=None&ppn=None&ssid=9ehktj8y0w0000001690344871277&qH=fa331f09cdd30848\n",
            "/apple-iphone-13-midnight-128-gb/p/itmca361aab1c5b0?pid=MOBG6VF5Q82T3XRS&lid=LSTMOBG6VF5Q82T3XRSOXJLM9&marketplace=FLIPKART&q=mobile+phone+5g&store=tyy%2F4io&spotlightTagId=FkPickId_tyy%2F4io&srno=s_1_17&otracker=search&fm=organic&iid=3a919578-0bb8-4de6-b587-9a61558810da.MOBG6VF5Q82T3XRS.SEARCH&ppt=None&ppn=None&ssid=9ehktj8y0w0000001690344871277&qH=fa331f09cdd30848\n",
            "/realme-10-pro-5g-hyperspace-128-gb/p/itm1e672d12a252e?pid=MOBGK8VHZPVGJCES&lid=LSTMOBGK8VHZPVGJCES9YRIWN&marketplace=FLIPKART&q=mobile+phone+5g&store=tyy%2F4io&srno=s_1_18&otracker=search&fm=organic&iid=3a919578-0bb8-4de6-b587-9a61558810da.MOBGK8VHZPVGJCES.SEARCH&ppt=None&ppn=None&ssid=9ehktj8y0w0000001690344871277&qH=fa331f09cdd30848\n",
            "/realme-10-pro-5g-nebula-blue-128-gb/p/itm1e672d12a252e?pid=MOBGK8VHHFY5VCAY&lid=LSTMOBGK8VHHFY5VCAYOXEXVI&marketplace=FLIPKART&q=mobile+phone+5g&store=tyy%2F4io&srno=s_1_19&otracker=search&fm=organic&iid=3a919578-0bb8-4de6-b587-9a61558810da.MOBGK8VHHFY5VCAY.SEARCH&ppt=None&ppn=None&ssid=9ehktj8y0w0000001690344871277&qH=fa331f09cdd30848\n",
            "/realme-10-pro-5g-nebula-blue-128-gb/p/itm1e672d12a252e?pid=MOBGK8VHX6FDJPCE&lid=LSTMOBGK8VHX6FDJPCEW9XIEE&marketplace=FLIPKART&q=mobile+phone+5g&store=tyy%2F4io&srno=s_1_20&otracker=search&fm=organic&iid=3a919578-0bb8-4de6-b587-9a61558810da.MOBGK8VHX6FDJPCE.SEARCH&ppt=None&ppn=None&ssid=9ehktj8y0w0000001690344871277&qH=fa331f09cdd30848\n",
            "/realme-10-pro-5g-hyperspace-128-gb/p/itm1e672d12a252e?pid=MOBGK8VHECUBAZFA&lid=LSTMOBGK8VHECUBAZFAPQMQUM&marketplace=FLIPKART&q=mobile+phone+5g&store=tyy%2F4io&srno=s_1_21&otracker=search&fm=organic&iid=3a919578-0bb8-4de6-b587-9a61558810da.MOBGK8VHECUBAZFA.SEARCH&ppt=None&ppn=None&ssid=9ehktj8y0w0000001690344871277&qH=fa331f09cdd30848\n",
            "/google-pixel-6a-charcoal-128-gb/p/itme5ae89135d44e?pid=MOBGFKX5YUXD74Z3&lid=LSTMOBGFKX5YUXD74Z3MXA2OB&marketplace=FLIPKART&q=mobile+phone+5g&store=tyy%2F4io&srno=s_1_22&otracker=search&fm=organic&iid=3a919578-0bb8-4de6-b587-9a61558810da.MOBGFKX5YUXD74Z3.SEARCH&ppt=None&ppn=None&ssid=9ehktj8y0w0000001690344871277&qH=fa331f09cdd30848\n",
            "/google-pixel-6a-chalk-128-gb/p/itme5ae89135d44e?pid=MOBGFWEZ5SKU84Z8&lid=LSTMOBGFWEZ5SKU84Z8FXPB45&marketplace=FLIPKART&q=mobile+phone+5g&store=tyy%2F4io&srno=s_1_23&otracker=search&fm=organic&iid=3a919578-0bb8-4de6-b587-9a61558810da.MOBGFWEZ5SKU84Z8.SEARCH&ppt=None&ppn=None&ssid=9ehktj8y0w0000001690344871277&qH=fa331f09cdd30848\n",
            "/apple-iphone-14-starlight-128-gb/p/itm3485a56f6e676?pid=MOBGHWFHABH3G73H&lid=LSTMOBGHWFHABH3G73HVXY5AV&marketplace=FLIPKART&q=mobile+phone+5g&store=tyy%2F4io&srno=s_1_24&otracker=search&fm=organic&iid=3a919578-0bb8-4de6-b587-9a61558810da.MOBGHWFHABH3G73H.SEARCH&ppt=None&ppn=None&ssid=9ehktj8y0w0000001690344871277&qH=fa331f09cdd30848\n",
            "/search?q=mobile+phone+5g&page=1\n",
            "/search?q=mobile+phone+5g&page=2\n",
            "/search?q=mobile+phone+5g&page=3\n",
            "/search?q=mobile+phone+5g&page=4\n",
            "/search?q=mobile+phone+5g&page=5\n",
            "/search?q=mobile+phone+5g&page=6\n",
            "/search?q=mobile+phone+5g&page=7\n",
            "/search?q=mobile+phone+5g&page=8\n",
            "/search?q=mobile+phone+5g&page=9\n",
            "/search?q=mobile+phone+5g&page=10\n",
            "/search?q=mobile+phone+5g&page=2\n",
            "/samsung-galaxy-f14-5g-omg-black-128-gb/p/itmae94033406fb2?pid=MOBGNBFNE6KGXCCR&marketplace=FLIPKART\n",
            "/vivo-t2-5g-velocity-wave-128-gb/p/itma79eb573156a4?pid=MOBGZBFU2GHZTMGN&marketplace=FLIPKART\n",
            "/realme-10-pro-5g-hyperspace-128-gb/p/itm1e672d12a252e?pid=MOBGK8VHECUBAZFA&marketplace=FLIPKART\n",
            "/samsung-galaxy-f23-5g-aqua-blue-128-gb/p/itme54bc0c2292f4?pid=MOBGBKQF45XPEUHA&marketplace=FLIPKART\n",
            "/google-pixel-6a-charcoal-128-gb/p/itme5ae89135d44e?pid=MOBGFKX5YUXD74Z3&marketplace=FLIPKART\n",
            "/helpcentre?otracker=undefined_footer_navlinks\n",
            "https://corporate.flipkart.net/corporate-home\n",
            "https://www.flipkartcareers.com/?otracker=undefined_footer_navlinks\n",
            "http://stories.flipkart.com/?otracker=undefined_footer_navlinks\n",
            "/s/press?otracker=undefined_footer_navlinks\n",
            "https://www.flipkartwholesale.com/?otracker=undefined_footer_navlinks\n",
            "/corporate-information\n",
            "/pages/payments\n",
            "/pages/shipping\n",
            "/helpcentre?catalog=55c9c6edb000002e002c1701&view=CATALOG\n",
            "/helpcentre?catalog=55c9c8e2b0000023002c1702&view=CATALOG\n",
            "https://seller.flipkart.com/fiv?otracker=undefined_footer_navlinks\n",
            "/pages/returnpolicy?otracker=undefined_footer_navlinks\n",
            "/pages/terms?otracker=undefined_footer_navlinks\n",
            "/pages/paymentsecurity?otracker=undefined_footer_navlinks\n",
            "/pages/privacypolicy?otracker=undefined_footer_navlinks\n",
            "/sitemap?otracker=undefined_footer_navlinks\n",
            "/pages/grievance-redressal-mechanism?otracker=undefined_footer_navlinks\n",
            "/pages/ewaste-compliance-tnc?otracker=undefined_footer_navlinks\n",
            "https://www.facebook.com/flipkart\n",
            "https://www.twitter.com/flipkart\n",
            "https://www.youtube.com/flipkart\n",
            "tel:044-45614700\n",
            "https://seller.flipkart.com/?utm_source=fkwebsite&utm_medium=websitedirect\n",
            "https://brands.flipkart.com\n",
            "/the-gift-card-store?otracker=undefined_footer_footer_navlinks\n",
            "/helpcentre?otracker=undefined_footer_footer_navlinks\n"
          ]
        }
      ]
    },
    {
      "cell_type": "code",
      "source": [],
      "metadata": {
        "id": "nYZ_jE8UbFIp"
      },
      "execution_count": null,
      "outputs": []
    }
  ]
}